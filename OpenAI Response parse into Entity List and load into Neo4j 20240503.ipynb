{
 "cells": [
  {
   "cell_type": "code",
   "execution_count": 10,
   "id": "d4b51a77-ddf8-403e-9b8a-b19f4c23a444",
   "metadata": {},
   "outputs": [
    {
     "name": "stdout",
     "output_type": "stream",
     "text": [
      "neo4j+s://8bb749c2.databases.neo4j.io\n",
      "QqPm...g-5Q\n"
     ]
    }
   ],
   "source": [
    "## Neo4j Init + query function definition\n",
    "\n",
    "from dotenv import load_dotenv\n",
    "import os\n",
    "\n",
    "# Load the environment variables from .env file\n",
    "load_dotenv()\n",
    "\n",
    "# Use os.environ to access environment variables\n",
    "NEO4J_URI = os.environ.get('NEO4J_URI')\n",
    "NEO4J_USERNAME = os.environ.get('NEO4J_USERNAME') # default neo4j\n",
    "NEO4J_PASSWORD = os.environ.get('NEO4J_PASSWORD') # default neo4j for local instance\n",
    "AURA_INSTANCEID = os.environ.get('AURA_INSTANCEID')\n",
    "AURA_INSTANCENAME = os.environ.get('AURA_INSTANCENAME')\n",
    "\n",
    "# Now you can use `api_key` in your code\n",
    "print(NEO4J_URI)\n",
    "\n",
    "# print password fragment for a visual check\n",
    "print(NEO4J_PASSWORD[:4] + '...'+ NEO4J_PASSWORD[-4:])  # Just for demonstration, remove or replace this in actual use\n",
    "\n",
    "# Define a simple query function\n",
    "from typing import List, Optional, Dict, Any\n",
    "def run_query(driver: Driver, query:str, parameters:Optional[Dict[str, Any]] = None) -> List[Dict[str, Any]]:\n",
    "    \"\"\"\n",
    "    Executes a Cypher query against the Neo4j database using the provided driver.\n",
    "    \n",
    "    Args:\n",
    "        query (str): The Cypher query to be executed.\n",
    "        parameters (Optional[Dict[str, Any]]): A dictionary of parameters for the Cypher query.\n",
    "        driver (Driver): An instance of a Neo4j driver to manage connections to the database.\n",
    "        \n",
    "    Returns:\n",
    "        List[Dict[str, Any]]: A list of dictionaries, where each dictionary represents the fields\n",
    "        of a single record returned by the query.\n",
    "        \n",
    "    Raises:\n",
    "        Exception: If an error occurs during query execution or session management.\n",
    "    \"\"\"\n",
    "    try:\n",
    "        with driver.session() as session:\n",
    "            result = session.run(query, parameters)\n",
    "            return [dict(record) for record in result]\n",
    "    except Exception as e:\n",
    "        print(f\"An error occurred: {e}\")\n",
    "        return None"
   ]
  },
  {
   "cell_type": "code",
   "execution_count": 14,
   "id": "d39c98bb-25be-4e7f-84d4-94515924dbac",
   "metadata": {},
   "outputs": [
    {
     "name": "stdout",
     "output_type": "stream",
     "text": [
      "[{'name': 'Chelsea', 'description': 'Football Club'}, {'name': 'Player', 'description': 'Football Player'}, {'name': 'Coach', 'description': 'Football Team Coach'}, {'name': 'Stadium', 'description': 'Football Stadium'}]\n"
     ]
    },
    {
     "name": "stderr",
     "output_type": "stream",
     "text": [
      "C:\\Users\\sergey.lyubarskiy\\AppData\\Local\\Temp\\ipykernel_38892\\3730250134.py:67: DeprecationWarning: write_transaction has been renamed to execute_write\n",
      "  session.write_transaction(self._delete_all)\n"
     ]
    },
    {
     "name": "stdout",
     "output_type": "stream",
     "text": [
      "Database has been reset to a blank state.\n",
      "CREATE (Chelsea:Entity {name: \"Chelsea\", description: \"Football Club\"})\n",
      "[]\n",
      "CREATE (Player:Entity {name: \"Player\", description: \"Football Player\"})\n",
      "[]\n",
      "CREATE (Coach:Entity {name: \"Coach\", description: \"Football Team Coach\"})\n",
      "[]\n",
      "CREATE (Stadium:Entity {name: \"Stadium\", description: \"Football Stadium\"})\n",
      "[]\n",
      "you should see the output is empty, e.g. \"[ ]\" \n",
      "Otherwise see the code for database cleanup at the bottom of this notebook\n",
      "[{'n': <Node element_id='4:75348602-e7db-421d-bac5-d06e7457432b:2' labels=frozenset({'Entity'}) properties={'name': 'Chelsea', 'description': 'Football Club'}>}, {'n': <Node element_id='4:75348602-e7db-421d-bac5-d06e7457432b:3' labels=frozenset({'Entity'}) properties={'name': 'Player', 'description': 'Football Player'}>}, {'n': <Node element_id='4:75348602-e7db-421d-bac5-d06e7457432b:4' labels=frozenset({'Entity'}) properties={'name': 'Coach', 'description': 'Football Team Coach'}>}, {'n': <Node element_id='4:75348602-e7db-421d-bac5-d06e7457432b:5' labels=frozenset({'Entity'}) properties={'name': 'Stadium', 'description': 'Football Stadium'}>}]\n"
     ]
    }
   ],
   "source": [
    "# 1. first we need to prompt OpenAI so that its response structure is either JSON or JSON is included in the response.\n",
    "# \n",
    "# 2. Then we need to pull our JSON structure from the message (unless the message contains only our JSON and nothing else). Either way it won't harm to have extra check\n",
    "import re\n",
    "import json\n",
    "\n",
    "def extract_first_json(text):\n",
    "    # Regex pattern to find the first instance of a JSON object or array\n",
    "    json_pattern = r'(\\{.*?\\}|\\[.*?\\])'\n",
    "    \n",
    "    # Using non-greedy matching to capture the smallest possible valid JSON string\n",
    "    match = re.search(json_pattern, text, re.DOTALL)\n",
    "    if match:\n",
    "        json_str = match.group(0)\n",
    "        try:\n",
    "            # Convert the JSON string to a Python dictionary or list\n",
    "            json_data = json.loads(json_str)\n",
    "            return json_data\n",
    "        except json.JSONDecodeError:\n",
    "            print(\"Found string is not a valid JSON.\")\n",
    "    else:\n",
    "        print(\"No JSON object or array found in the text.\")\n",
    "\n",
    "# Example usage\n",
    "openai_api_response_text = '''\n",
    "    Here is a JSON object: [{\"name\":\"Chelsea\", \"description\": \"Football Club\"}, {\"name\":\"Player\", \"description\":\"Football Player\"}, {\"name\":\"Coach\", \"description\":\"Football Team Coach\"}, {\"name\":\"Stadium\", \"description\":\"Football Stadium\"}]\n",
    "    Let me know if you need any more help\n",
    "    Yours truly,\n",
    "    OpenAI\n",
    "    P.S. Big Brother is watching you\n",
    "'''\n",
    "openai_reposponse_json = extract_first_json(openai_api_response_text)\n",
    "\n",
    "print(openai_reposponse_json)\n",
    "\n",
    "\n",
    "\n",
    "# 3. Connect to Neo4j\n",
    "from neo4j import GraphDatabase\n",
    "from neo4j import Driver\n",
    "\n",
    "# Replace these with your Aura or Neo4j connection details or use the values loaded from environment variables.\n",
    "uri = NEO4J_URI\n",
    "username = NEO4J_USERNAME\n",
    "password = NEO4J_PASSWORD\n",
    "\n",
    "# Create a driver instance\n",
    "driver = GraphDatabase.driver(uri, auth=(username, password))\n",
    "\n",
    "# 4. Empty database for a clean test\n",
    "from neo4j import GraphDatabase\n",
    "\n",
    "# Replace these with your Aura connection details\n",
    "uri = NEO4J_URI\n",
    "username = NEO4J_USERNAME\n",
    "password = NEO4J_PASSWORD\n",
    "\n",
    "class DatabaseCleaner:\n",
    "    def __init__(self, uri, username, password):\n",
    "        self.driver = GraphDatabase.driver(uri, auth=(username, password))\n",
    "\n",
    "    def close(self):\n",
    "        self.driver.close()\n",
    "\n",
    "    def reset_database(self):\n",
    "        with self.driver.session() as session:\n",
    "            session.write_transaction(self._delete_all)\n",
    "\n",
    "    @staticmethod\n",
    "    def _delete_all(tx):\n",
    "        tx.run(\"MATCH (n) DETACH DELETE n\")\n",
    "\n",
    "if __name__ == \"__main__\":\n",
    "    db_cleaner = DatabaseCleaner(uri, username, password)\n",
    "    db_cleaner.reset_database()\n",
    "    db_cleaner.close()\n",
    "    print(\"Database has been reset to a blank state.\")\n",
    "\n",
    "\n",
    "# 5. Load JSON you got from the API response as a bunch of entities in Neo4j\n",
    "\n",
    "for entity_and_description_pair in openai_reposponse_json:\n",
    "    # create the first entity\n",
    "    entity_name = entity_and_description_pair[\"name\"]\n",
    "    entity_description = entity_and_description_pair[\"description\"]\n",
    "    neo4j_cyper_query = f'CREATE ({entity_name}:Entity {{name: \"{entity_name}\", description: \"{entity_description}\"}})'\n",
    "    print(neo4j_cyper_query)\n",
    "    results = run_query(driver, neo4j_cyper_query)\n",
    "    print(results)\n",
    "\n",
    "\n",
    "# 6. Check if it worked\n",
    "\n",
    "\n",
    "# check the database is empty\n",
    "query = \"MATCH (n) RETURN n LIMIT 5\"\n",
    "results = run_query(driver, query)\n",
    "print('you should see the output is empty, e.g. \"[ ]\" \\nOtherwise see the code for database cleanup at the bottom of this notebook')\n",
    "print(results)\n"
   ]
  },
  {
   "cell_type": "code",
   "execution_count": 15,
   "id": "51c97f0f-b37c-4317-be8c-d05684138616",
   "metadata": {},
   "outputs": [
    {
     "name": "stdout",
     "output_type": "stream",
     "text": [
      "[{'n.name': 'Chelsea'}]\n"
     ]
    }
   ],
   "source": [
    "# Some basic similarity search to be refined, but proves the index works\n",
    "# More information here: https://neo4j.com/docs/cypher-manual/current/indexes/semantic-indexes/vector-indexes/#:~:text=You%20can%20create%20vector%20indexes%20using%20the%20CREATE,must%20be%20unique%20among%20both%20indexes%20and%20constraints.\n",
    "search\n",
    "query = '''MATCH (n)\n",
    "WHERE toLower(n.description) CONTAINS 'club'\n",
    "RETURN n.name'''\n",
    "results = run_query(driver, query)\n",
    "print(results)"
   ]
  },
  {
   "cell_type": "code",
   "execution_count": 22,
   "id": "bc684539-039e-44fa-830e-7a2fc111d788",
   "metadata": {},
   "outputs": [],
   "source": [
    "additional_information_to_append_to_user_prompt_before_sending_to_completion_api = results[0]['n.name']"
   ]
  },
  {
   "cell_type": "code",
   "execution_count": 25,
   "id": "fd03a662-63e1-4372-9e26-a4d8e5d2c15a",
   "metadata": {},
   "outputs": [],
   "source": [
    "user_prompt = 'What and where and how much?'\n",
    "user_prompt_enriched = f'''\n",
    "# TASK\n",
    "Answer the question of the user using the best of your knowledge as of your last training data, combined with the additional information included in the prompt under the user questions below.\n",
    "\n",
    "# CONTEXT\n",
    "### The user has asked the following question\n",
    "{user_prompt}\n",
    "\n",
    "### Corporate database contains the following additional information that may be relevant to the query\n",
    "{additional_information_to_append_to_user_prompt_before_sending_to_completion_api}\n",
    "'''"
   ]
  },
  {
   "cell_type": "code",
   "execution_count": 26,
   "id": "0819dd6d-6755-4910-92b3-38b006db245e",
   "metadata": {},
   "outputs": [
    {
     "name": "stdout",
     "output_type": "stream",
     "text": [
      "\n",
      "# TASK\n",
      "Answer the question of the user using the best of your knowledge as of your last training data, combined with the additional information included in the prompt under the user questions below.\n",
      "\n",
      "# CONTEXT\n",
      "### The user has asked the following question\n",
      "What and where and how much?\n",
      "\n",
      "### Corporate database contains the following additional information that may be relevant to the query\n",
      "Chelsea\n",
      "\n"
     ]
    }
   ],
   "source": [
    "print(user_prompt_enriched)"
   ]
  }
 ],
 "metadata": {
  "kernelspec": {
   "display_name": "Python 3 (ipykernel)",
   "language": "python",
   "name": "python3"
  },
  "language_info": {
   "codemirror_mode": {
    "name": "ipython",
    "version": 3
   },
   "file_extension": ".py",
   "mimetype": "text/x-python",
   "name": "python",
   "nbconvert_exporter": "python",
   "pygments_lexer": "ipython3",
   "version": "3.11.8"
  }
 },
 "nbformat": 4,
 "nbformat_minor": 5
}
